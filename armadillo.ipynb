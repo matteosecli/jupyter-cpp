{
 "cells": [
  {
   "cell_type": "markdown",
   "id": "6233a71e-a1ac-44cb-b72b-a5dc5de2d598",
   "metadata": {},
   "source": [
    "# Modern C++ Demo"
   ]
  },
  {
   "cell_type": "markdown",
   "id": "26dd0c65-b574-4599-9d5e-c40f11213bd8",
   "metadata": {
    "tags": []
   },
   "source": [
    "Let's load `Armadillo`:"
   ]
  },
  {
   "cell_type": "code",
   "execution_count": 1,
   "id": "975d1dae-feaa-47f0-a76d-877f6a569878",
   "metadata": {
    "tags": []
   },
   "outputs": [],
   "source": [
    "/* Load Armadillo, linking directly to OpenBLAS and HDF5 */\n",
    "#pragma cling add_library_path(\"/srv/conda/envs/notebook/lib\")\n",
    "#pragma cling load(\"openblas\")\n",
    "#pragma cling load(\"hdf5\")\n",
    "#define ARMA_DONT_USE_WRAPPER\n",
    "#define ARMA_USE_HDF5\n",
    "#include <armadillo>\n",
    "\n",
    "/* Nerding */\n",
    "#define HG2G 42"
   ]
  },
  {
   "cell_type": "markdown",
   "id": "0de91244-74b1-401e-962c-4b0c38962314",
   "metadata": {},
   "source": [
    "Let's start with dense matrices. We create two random matrices, multiply them, and diagonalize the result.\n",
    "\n",
    "We also save the multiplication result into an HDF5 file."
   ]
  },
  {
   "cell_type": "code",
   "execution_count": 2,
   "id": "24511597-2d33-4e57-8c37-2a11d00226ac",
   "metadata": {
    "tags": []
   },
   "outputs": [
    {
     "name": "stdout",
     "output_type": "stream",
     "text": [
      "C = A * B^† =\n",
      "   1.9810   1.0959   1.2581   1.2164\n",
      "   1.6054   0.8515   0.7738   0.8312\n",
      "   1.3101   0.8522   0.6836   1.1020\n",
      "   1.3186   0.9072   0.7063   1.2266\n",
      "\n",
      "(Complex) eigenvalues of C:\n",
      "    (+4.585e+00,+0.000e+00)\n",
      "    (+8.735e-02,+8.316e-02)\n",
      "    (+8.735e-02,-8.316e-02)\n",
      "    (-1.744e-02,+0.000e+00)\n",
      "\n"
     ]
    }
   ],
   "source": [
    "using namespace std;\n",
    "using namespace arma;\n",
    "arma_rng::set_seed(HG2G);\n",
    "\n",
    "/* Create matrices A and B with random uniform filling: */\n",
    "mat A(4, 5, fill::randu);\n",
    "mat B(4, 5, fill::randu);\n",
    "\n",
    "/* Multiplication uses fast BLAS operations, but easy to write: */\n",
    "mat C = A*B.t();\n",
    "cout << \"C = A * B^† =\\n\" << C << endl;\n",
    "\n",
    "/* Diagonalization is transparently handled by fast LAPACK routines: */\n",
    "cx_vec eigVals = eig_gen(C);\n",
    "cout << \"(Complex) eigenvalues of C:\\n\" << eigVals << endl;\n",
    "\n",
    "/* Save C to an HDF5 file */\n",
    "C.save(\"C.h5\", arma::hdf5_binary);"
   ]
  },
  {
   "cell_type": "markdown",
   "id": "d1012290-5a72-4659-815e-ee4f3c645338",
   "metadata": {},
   "source": [
    "Now, let's create a sparse matrix.\n",
    "\n",
    "We specify the dimension, `50×50`, and the sparsity (at 1%), and we find the smallest eigenvalue."
   ]
  },
  {
   "cell_type": "code",
   "execution_count": 3,
   "id": "c95e0e33-0744-4f02-98b9-9aa9aa6a9ddd",
   "metadata": {
    "tags": []
   },
   "outputs": [
    {
     "name": "stdout",
     "output_type": "stream",
     "text": [
      "Sparse matrix S =\n",
      "[matrix size: 50x50; n_nonzero: 25; density: 1.00%]\n",
      "\n",
      "      (0, 0)          0.7552\n",
      "     (20, 0)          0.6390\n",
      "     (24, 3)          0.7521\n",
      "     (32, 5)          0.1363\n",
      "     (15, 9)          0.9033\n",
      "     (35, 9)          0.0941\n",
      "     (14, 13)         0.5746\n",
      "     (18, 14)         0.3729\n",
      "     (31, 17)         0.2739\n",
      "      (9, 20)         0.3903\n",
      "     (15, 20)         0.0124\n",
      "     (30, 24)         0.5237\n",
      "     (20, 26)         0.6853\n",
      "     (26, 27)         0.6373\n",
      "     (31, 28)         0.8265\n",
      "     (36, 28)         0.9457\n",
      "     (19, 33)         0.7532\n",
      "     (12, 35)         0.4489\n",
      "     (27, 37)         0.0468\n",
      "     (26, 39)         0.0646\n",
      "     (21, 40)         0.7476\n",
      "     (33, 43)         0.1493\n",
      "     (36, 45)         0.4253\n",
      "     (17, 47)         0.1000\n",
      "     (49, 49)         0.1439\n",
      "\n",
      "\n",
      "Smallest eigenvalue of S:\n",
      "(-1.54146e-07,-2.66982e-07)\n"
     ]
    }
   ],
   "source": [
    "using namespace std;\n",
    "using namespace arma;\n",
    "arma_rng::set_seed(HG2G);\n",
    "\n",
    "/* Create a sparse matrix S with uniform filling and 1% sparsity */\n",
    "sp_mat S = sprandu(50, 50, 0.01);\n",
    "cout << \"Sparse matrix S =\\n\" << S << endl;\n",
    "\n",
    "/* We then find the smallest eigenvalue */\n",
    "cx_vec eigSmallest = eigs_gen(S, 1, \"sm\");\n",
    "cout << \"Smallest eigenvalue of S:\\n\" << eigSmallest(0) << endl;"
   ]
  },
  {
   "cell_type": "code",
   "execution_count": null,
   "id": "6f0a7f80-1d08-47c0-a86e-6d4a97c9b819",
   "metadata": {},
   "outputs": [],
   "source": []
  }
 ],
 "metadata": {
  "kernelspec": {
   "display_name": "C++14",
   "language": "C++14",
   "name": "xcpp14"
  },
  "language_info": {
   "codemirror_mode": "text/x-c++src",
   "file_extension": ".cpp",
   "mimetype": "text/x-c++src",
   "name": "c++",
   "version": "14"
  }
 },
 "nbformat": 4,
 "nbformat_minor": 5
}
